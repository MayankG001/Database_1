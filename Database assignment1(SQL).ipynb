{
 "cells": [
  {
   "cell_type": "markdown",
   "id": "a0d91a05-110a-42c6-93ad-0d5bc2a37d86",
   "metadata": {
    "tags": []
   },
   "source": [
    "# DATABASE ASSIGNMENT 1"
   ]
  },
  {
   "cell_type": "markdown",
   "id": "dd392338-2555-4090-92c2-7e2f5f53ac58",
   "metadata": {},
   "source": [
    "***\n",
    "Q1.What is a database? Differentiate between SQL and NoSQL databases.\n",
    "***"
   ]
  },
  {
   "cell_type": "markdown",
   "id": "0938c3e5-f75a-4594-b335-9a6a6ba12081",
   "metadata": {},
   "source": [
    "A database is an organized collection of structured information, or data, typically stored electronically in a computer system. A database is usually controlled by a database management system (DBMS).\n",
    "\n",
    "***Difference between SQL and NoSQL.***\n",
    "\n",
    "|SQL|NOSQL|\n",
    "|--|------|\n",
    "|RELATIONAL DATABASE MANAGEMENT SYSTEM (RDBMS)|Non-relational or distributed database system.|\n",
    "|These databases have fixed or static or predefined schema|They have dynamic schema|\n",
    "|These databases are not suited for hierarchical data storage.|These databases are best suited for hierarchical data storage.|\n",
    "|These databases are best suited for complex queries|These databases are not so good for complex queries|\n",
    "|Vertically Scalable|Horizontally scalable|\n",
    "|Follows ACID property|Follows CAP(consistency, availability, partition tolerance)|\n",
    "|Examples: MySQL, PostgreSQL, Oracle, MS-SQL Server, etc|Examples: MongoDB, GraphQL, HBase, Neo4j, Cassandra, etc|\n",
    "\n"
   ]
  },
  {
   "cell_type": "markdown",
   "id": "1f969d1d-b340-4393-89f6-375032158d91",
   "metadata": {},
   "source": [
    "***\n",
    "Q2. What is DDL? Explain why CREATE, DROP, ALTER, and TRUNCATE are used with an example.\n",
    "***"
   ]
  },
  {
   "cell_type": "markdown",
   "id": "26ad8dc6-70bf-4c56-820f-aa4da111bb1c",
   "metadata": {},
   "source": [
    "**DDL** stands for **Data Definition Language** which is a subset of SQL (Structured Query Language) used to define the database schema and manipulate the structure of database objects such as tables, views, indexes, etc. DDL commands are used to create, modify, and delete database objects. Here are the explanations of some of the commonly used DDL commands:\n",
    "\n",
    "1.**CREATE**: The CREATE command is used to create a new database object such as a table, view, index, or stored procedure. For example, the following SQL command creates a new table named \"employees\" with three columns:\n",
    "\n",
    "Example: `CREATE TABLE employees (id INT PRIMARY KEY,name VARCHAR(50),age INT);`\n",
    "    \n",
    "2.**DROP**: The DROP command is used to delete an existing database object such as a table, view, index, or stored procedure. For example, the following SQL command drops the \"employees\" table:\n",
    "\n",
    "Example: `DROP TABLE employees;`\n",
    "\n",
    "3.**ALTER**: The ALTER command is used to modify the structure of an existing database object such as a table, view, or index. For example, the following SQL command adds a new column \"salary\" to the \"employees\" table:\n",
    "\n",
    "Example: `ALTER TABLE employees ADD COLUMN salary DECIMAL(10,2);`\n",
    "\n",
    "4.**TRUNCATE**: The TRUNCATE command is used to delete all data from a table, but the table structure remains intact. For example, the following SQL command deletes all data from the \"employees\" table:\n",
    "\n",
    "Example: `TRUNCATE TABLE employees;`\n",
    "\n",
    "***In summary, DDL commands are essential to define, modify, and delete the structure of database objects. CREATE is used to create new objects, DROP is used to delete objects, ALTER is used to modify objects, and TRUNCATE is used to delete all data from a table.***\n",
    "\n",
    "\n",
    "\n"
   ]
  },
  {
   "cell_type": "markdown",
   "id": "9c63ceb2-7a4e-4c34-978c-b4304592750c",
   "metadata": {},
   "source": [
    "***\n",
    "Q3. What is DML? Explain INSERT, UPDATE, and DELETE with an example.\n",
    "***"
   ]
  },
  {
   "cell_type": "markdown",
   "id": "ddaa5683-8a9f-4788-b2fc-6dc822af26b3",
   "metadata": {},
   "source": [
    "DML stands for Data Manipulation Language, which is a subset of SQL (Structured Query Language) used to manipulate data within a database. DML commands are used to insert, update, and delete data from database objects such as tables, views, etc. Here are the explanations of some of the commonly used DML commands:\n",
    "\n",
    "1.**INSERT**: The INSERT command is used to add new data into a table. For example, the following SQL command adds a new row to the \"employees\" table with values for the \"id\", \"name\", \"age\", and \"salary\" columns:\n",
    "\n",
    "Example: `INSERT INTO employees (id, name, age, salary) VALUES (1, 'John Doe', 35, 50000);`\n",
    "\n",
    "2.**UPDATE**: The UPDATE command is used to modify existing data in a table. For example, the following SQL command updates the \"salary\" column of the \"employees\" table for the employee with an \"id\" of 1:\n",
    "\n",
    "Example: `UPDATE employees SET salary = 55000 WHERE id = 1;`\n",
    "\n",
    "3.**DELETE**: The DELETE command is used to remove data from a table. For example, the following SQL command deletes the employee with an \"id\" of 1 from the \"employees\" table:\n",
    "\n",
    "Example: `DELETE FROM employees WHERE id = 1;`\n",
    "\n",
    "***In summary, DML commands are used to manipulate data within a database. INSERT is used to add new data into a table, UPDATE is used to modify existing data in a table, and DELETE is used to remove data from a table.***\n",
    "\n",
    "\n",
    "\n",
    "\n",
    "\n",
    "\n"
   ]
  },
  {
   "cell_type": "markdown",
   "id": "a0c5c5ea-4949-45cb-8680-ff84d5c2247a",
   "metadata": {},
   "source": [
    "***\n",
    "Q4. What is DQL? Explain SELECT with an example.\n",
    "***"
   ]
  },
  {
   "cell_type": "markdown",
   "id": "83691865-f0cc-4140-8bd9-b2008fd234e0",
   "metadata": {},
   "source": [
    "DQL stands for Data Query Language, which is a subset of SQL (Structured Query Language) used to retrieve data from a database. DQL commands are used to query and retrieve data from database objects such as tables, views, etc. The most commonly used DQL command is SELECT. Here is an explanation of the SELECT command with an example:\n",
    "\n",
    "* **SELECT**: The SELECT command is used to retrieve data from one or more tables in a database. It is used to specify the columns to retrieve and the conditions for selecting rows. For example, the following SQL command retrieves all columns from the \"employees\" table:\n",
    "\n",
    "Example: `SELECT id, name, age FROM employees;`\n",
    "\n",
    "This command will retrieve only the \"id\", \"name\", and \"age\" columns from the \"employees\" table.\n",
    "\n",
    "Ex2: `SELECT * FROM employees WHERE age > 30;`\n",
    "\n",
    "This command will retrieve all columns from the \"employees\" table for employees whose age is greater than 30.\n",
    "\n",
    "***In summary, DQL commands are used to retrieve data from a database. The SELECT command is used to specify the columns to retrieve and the conditions for selecting rows from one or more tables.***\n",
    "\n"
   ]
  },
  {
   "cell_type": "markdown",
   "id": "19e31efa-eb95-497d-ab3b-124f27abbf21",
   "metadata": {},
   "source": [
    "***\n",
    "Q5. Explain Primary Key and Foreign Key.\n",
    "***"
   ]
  },
  {
   "cell_type": "markdown",
   "id": "ca9f08d5-1bd2-46b2-b04c-56e7c0e2deb3",
   "metadata": {},
   "source": [
    "* **Primary Key**: A primary key is a column or a set of columns in a table that uniquely identifies each row in that table. The primary key constraint ensures that there are no duplicate values in the primary key column(s) and that each row in the table can be uniquely identified. Primary keys are used to enforce data integrity and are commonly used to join tables together.\n",
    "\n",
    "`For example, consider a \"customers\" table with columns \"customer_id\", \"name\", and \"email\". The \"customer_id\" column can be set as the primary key, which means that no two customers can have the same customer_id. This constraint ensures that each row in the table can be uniquely identified by its customer_id value.`\n",
    "\n",
    "**Foreign Key**: A foreign key is a column or a set of columns in a table that refers to the primary key of another table. The foreign key constraint ensures that the values in the foreign key column(s) exist in the primary key column(s) of another table. This constraint is used to establish a relationship between two tables and is commonly used to join tables together.\n",
    "\n",
    "`For example, consider a \"orders\" table with columns \"order_id\", \"customer_id\", and \"order_date\". The \"customer_id\" column can be set as a foreign key that references the \"customer_id\" column in the \"customers\" table. This constraint ensures that every value in the \"customer_id\" column of the \"orders\" table exists in the \"customer_id\" column of the \"customers\" table. This allows us to join the \"orders\" table and the \"customers\" table based on the \"customer_id\" column to retrieve information about orders and their corresponding customers.`\n",
    "\n",
    "***In summary, a primary key is a column or a set of columns that uniquely identifies each row in a table, and a foreign key is a column or a set of columns that refers to the primary key of another table. These constraints are used to establish relationships between tables and enforce data integrity.***"
   ]
  },
  {
   "cell_type": "markdown",
   "id": "9e9215ea-d362-4c2f-a72f-c5ebe4ce50bf",
   "metadata": {},
   "source": [
    "***\n",
    "Q6. Write a python code to connect MySQL to python. Explain the cursor() and execute() method.\n",
    "***"
   ]
  },
  {
   "cell_type": "markdown",
   "id": "657ba3d2-6193-4b39-9c21-9799a3a1ef07",
   "metadata": {},
   "source": [
    "***CODE TO CONNECT MYSQL TO PYTHON***\n",
    "\n",
    "import mysql.connector\n",
    "\n",
    "`Connect to the MySQL database`\n",
    "\n",
    "mydb = mysql.connector.connect(\n",
    "  host=\"localhost\",\n",
    "  user=\"yourusername\",\n",
    "  password=\"yourpassword\",\n",
    "  database=\"yourdatabase\"\n",
    ")\n",
    "\n",
    "`Create a cursor object`\n",
    "\n",
    "mycursor = mydb.cursor()\n",
    "\n",
    "`Execute a SQL query`\n",
    "\n",
    "mycursor.execute(\"SELECT * FROM customers\")\n",
    "\n",
    "`Fetch the result`\n",
    "\n",
    "result = mycursor.fetchall()\n",
    "\n",
    "`Print the result`\n",
    "\n",
    "for row in result:\n",
    "  print(row)\n",
    "  \n",
    "In the above code, we first import the \"mysql-connector\" module to connect to the MySQL database. We then use the mysql.connector.connect() method to establish a connection to the database, passing in the host, user, password, and database name as parameters.\n",
    "\n",
    "Next, we create a cursor object using the cursor() method of the connection object. A cursor is used to execute SQL queries and fetch the results.\n",
    "\n",
    "We then use the execute() method of the cursor object to execute a SQL query (\"SELECT * FROM customers\" in this case). The fetchall() method is then used to retrieve all the rows of the query result. Finally, we iterate over the result and print each row.\n",
    "\n",
    "The cursor() method creates a cursor object, which is used to execute SQL queries and fetch results. The cursor() method takes no arguments and returns a cursor object.\n",
    "\n",
    "The execute() method is used to execute a SQL query. The query is passed as a parameter to the execute() method. The execute() method can also take a tuple or a dictionary as a parameter to insert values into the query. After the execute() method is called, the result set is stored in the cursor object, and we can use the fetch methods to retrieve the results.\n",
    "\n",
    "***In summary, the cursor() method creates a cursor object that is used to execute SQL queries, and the execute() method is used to execute a SQL query and fetch the results.***\n"
   ]
  },
  {
   "cell_type": "markdown",
   "id": "a656abd9-8908-4280-9661-89af596fe3ca",
   "metadata": {},
   "source": [
    "***\n",
    "Q7. Give the order of execution of SQL clauses in an SQL query.\n",
    "***"
   ]
  },
  {
   "cell_type": "markdown",
   "id": "86a7f736-e98d-451f-a59b-c8d2e0d170a7",
   "metadata": {},
   "source": [
    "***In an SQL query, the clauses are executed in a specific order. The order of execution is as follows:***\n",
    "\n",
    "* **FROM**: This clause specifies the table or tables from which data is to be retrieved.\n",
    "\n",
    "* **JOIN**: This clause is used to join tables together. It is executed after the FROM clause.\n",
    "\n",
    "* **WHERE**: This clause is used to filter data based on a condition. It is executed after the JOIN clause.\n",
    "\n",
    "* **GROUP BY**: This clause is used to group the result set by one or more columns. It is executed after the WHERE clause.\n",
    "\n",
    "* **HAVING**: This clause is used to filter the grouped data based on a condition. It is executed after the GROUP BY clause.\n",
    "\n",
    "* **SELECT**: This clause is used to select the columns to be displayed in the result set. It is executed after the HAVING clause.\n",
    "\n",
    "* **DISTINCT**: This clause is used to remove duplicate rows from the result set. It is executed after the SELECT clause.\n",
    "\n",
    "* **ORDER BY**: This clause is used to sort the result set based on one or more columns. It is executed after the DISTINCT clause.\n",
    "\n",
    "* **LIMIT**: This clause is used to limit the number of rows returned by the query. It is executed after the ORDER BY clause."
   ]
  },
  {
   "cell_type": "code",
   "execution_count": null,
   "id": "fdd54e2f-a00b-4efa-b6c9-410392abb5fb",
   "metadata": {},
   "outputs": [],
   "source": []
  }
 ],
 "metadata": {
  "kernelspec": {
   "display_name": "Python 3 (ipykernel)",
   "language": "python",
   "name": "python3"
  },
  "language_info": {
   "codemirror_mode": {
    "name": "ipython",
    "version": 3
   },
   "file_extension": ".py",
   "mimetype": "text/x-python",
   "name": "python",
   "nbconvert_exporter": "python",
   "pygments_lexer": "ipython3",
   "version": "3.10.8"
  }
 },
 "nbformat": 4,
 "nbformat_minor": 5
}
